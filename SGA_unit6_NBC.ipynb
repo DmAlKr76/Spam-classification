{
  "cells": [
    {
      "cell_type": "markdown",
      "id": "00009cca",
      "metadata": {
        "id": "00009cca"
      },
      "source": [
        "# Классификация текстов с использованием Наивного Байесовского Классификатора"
      ]
    },
    {
      "cell_type": "code",
      "execution_count": 195,
      "metadata": {},
      "outputs": [],
      "source": [
        "import pandas as pd\n",
        "import numpy as np\n",
        "import matplotlib.pyplot as plt\n",
        "%matplotlib inline"
      ]
    },
    {
      "cell_type": "markdown",
      "id": "a52414b8",
      "metadata": {
        "id": "a52414b8"
      },
      "source": [
        "## Задание 1 (1 балл)"
      ]
    },
    {
      "cell_type": "markdown",
      "id": "f5f27b43",
      "metadata": {
        "id": "f5f27b43"
      },
      "source": [
        "Откройте данные. Узнайте, сколько в них спам- и не спам-писем. Визуализируйте полученные соотношение подходящим образом."
      ]
    },
    {
      "cell_type": "code",
      "execution_count": 196,
      "id": "ac369274",
      "metadata": {
        "id": "ac369274"
      },
      "outputs": [
        {
          "data": {
            "text/html": [
              "<div>\n",
              "<style scoped>\n",
              "    .dataframe tbody tr th:only-of-type {\n",
              "        vertical-align: middle;\n",
              "    }\n",
              "\n",
              "    .dataframe tbody tr th {\n",
              "        vertical-align: top;\n",
              "    }\n",
              "\n",
              "    .dataframe thead th {\n",
              "        text-align: right;\n",
              "    }\n",
              "</style>\n",
              "<table border=\"1\" class=\"dataframe\">\n",
              "  <thead>\n",
              "    <tr style=\"text-align: right;\">\n",
              "      <th></th>\n",
              "      <th>email</th>\n",
              "      <th>label</th>\n",
              "    </tr>\n",
              "  </thead>\n",
              "  <tbody>\n",
              "    <tr>\n",
              "      <th>0</th>\n",
              "      <td>date wed NUMBER aug NUMBER NUMBER NUMBER NUMB...</td>\n",
              "      <td>0</td>\n",
              "    </tr>\n",
              "    <tr>\n",
              "      <th>1</th>\n",
              "      <td>martin a posted tassos papadopoulos the greek ...</td>\n",
              "      <td>0</td>\n",
              "    </tr>\n",
              "    <tr>\n",
              "      <th>2</th>\n",
              "      <td>man threatens explosion in moscow thursday aug...</td>\n",
              "      <td>0</td>\n",
              "    </tr>\n",
              "    <tr>\n",
              "      <th>3</th>\n",
              "      <td>klez the virus that won t die already the most...</td>\n",
              "      <td>0</td>\n",
              "    </tr>\n",
              "    <tr>\n",
              "      <th>4</th>\n",
              "      <td>in adding cream to spaghetti carbonara which ...</td>\n",
              "      <td>0</td>\n",
              "    </tr>\n",
              "  </tbody>\n",
              "</table>\n",
              "</div>"
            ],
            "text/plain": [
              "                                               email  label\n",
              "0   date wed NUMBER aug NUMBER NUMBER NUMBER NUMB...      0\n",
              "1  martin a posted tassos papadopoulos the greek ...      0\n",
              "2  man threatens explosion in moscow thursday aug...      0\n",
              "3  klez the virus that won t die already the most...      0\n",
              "4   in adding cream to spaghetti carbonara which ...      0"
            ]
          },
          "execution_count": 196,
          "metadata": {},
          "output_type": "execute_result"
        }
      ],
      "source": [
        "email_data = pd.read_csv('data/spam_or_not_spam.csv')\n",
        "email_data.head()"
      ]
    },
    {
      "cell_type": "code",
      "execution_count": 197,
      "id": "0268e787",
      "metadata": {},
      "outputs": [
        {
          "name": "stdout",
          "output_type": "stream",
          "text": [
            "<class 'pandas.core.frame.DataFrame'>\n",
            "RangeIndex: 3000 entries, 0 to 2999\n",
            "Data columns (total 2 columns):\n",
            " #   Column  Non-Null Count  Dtype \n",
            "---  ------  --------------  ----- \n",
            " 0   email   2999 non-null   object\n",
            " 1   label   3000 non-null   int64 \n",
            "dtypes: int64(1), object(1)\n",
            "memory usage: 47.0+ KB\n"
          ]
        }
      ],
      "source": [
        "email_data.info()"
      ]
    },
    {
      "cell_type": "code",
      "execution_count": 198,
      "id": "f4231781",
      "metadata": {
        "id": "f4231781"
      },
      "outputs": [
        {
          "data": {
            "text/html": [
              "<div>\n",
              "<style scoped>\n",
              "    .dataframe tbody tr th:only-of-type {\n",
              "        vertical-align: middle;\n",
              "    }\n",
              "\n",
              "    .dataframe tbody tr th {\n",
              "        vertical-align: top;\n",
              "    }\n",
              "\n",
              "    .dataframe thead th {\n",
              "        text-align: right;\n",
              "    }\n",
              "</style>\n",
              "<table border=\"1\" class=\"dataframe\">\n",
              "  <thead>\n",
              "    <tr style=\"text-align: right;\">\n",
              "      <th></th>\n",
              "      <th>email</th>\n",
              "    </tr>\n",
              "    <tr>\n",
              "      <th>label</th>\n",
              "      <th></th>\n",
              "    </tr>\n",
              "  </thead>\n",
              "  <tbody>\n",
              "    <tr>\n",
              "      <th>0</th>\n",
              "      <td>2500</td>\n",
              "    </tr>\n",
              "    <tr>\n",
              "      <th>1</th>\n",
              "      <td>499</td>\n",
              "    </tr>\n",
              "  </tbody>\n",
              "</table>\n",
              "</div>"
            ],
            "text/plain": [
              "       email\n",
              "label       \n",
              "0       2500\n",
              "1        499"
            ]
          },
          "execution_count": 198,
          "metadata": {},
          "output_type": "execute_result"
        }
      ],
      "source": [
        "email_data.groupby('label').count()"
      ]
    },
    {
      "cell_type": "code",
      "execution_count": 199,
      "id": "9b871636",
      "metadata": {
        "id": "9b871636"
      },
      "outputs": [
        {
          "data": {
            "text/plain": [
              "<AxesSubplot:title={'center':'Соотношение классов'}, ylabel='Frequency'>"
            ]
          },
          "execution_count": 199,
          "metadata": {},
          "output_type": "execute_result"
        },
        {
          "data": {
            "image/png": "[encoded data removed]",
            "text/plain": [
              "<Figure size 432x288 with 1 Axes>"
            ]
          },
          "metadata": {
            "needs_background": "light"
          },
          "output_type": "display_data"
        }
      ],
      "source": [
        "email_data['label'].plot(kind='hist', title='Соотношение классов')"
      ]
    },
    {
      "cell_type": "markdown",
      "id": "b161614b",
      "metadata": {
        "id": "b161614b"
      },
      "source": [
        "## Задание 2 (2 балла)"
      ]
    },
    {
      "cell_type": "markdown",
      "id": "dd29763b",
      "metadata": {
        "id": "dd29763b"
      },
      "source": [
        "Вам необходимо предобработать ваши данные и перевести их в векторный вид. Подгрузим необходимый модуль:"
      ]
    },
    {
      "cell_type": "code",
      "execution_count": 200,
      "id": "382eac9c",
      "metadata": {
        "id": "382eac9c"
      },
      "outputs": [],
      "source": [
        "from sklearn.feature_extraction.text import CountVectorizer"
      ]
    },
    {
      "cell_type": "markdown",
      "id": "89546b95",
      "metadata": {
        "id": "89546b95"
      },
      "source": [
        "Замените все пустоты (пустые строки) в данных на пропуски (NaN). После этого удалите из данных все строки, в которых наблюдаются пропущенные значения."
      ]
    },
    {
      "cell_type": "code",
      "execution_count": 201,
      "id": "9d5626f2",
      "metadata": {},
      "outputs": [
        {
          "data": {
            "text/plain": [
              "email    1\n",
              "label    0\n",
              "dtype: int64"
            ]
          },
          "execution_count": 201,
          "metadata": {},
          "output_type": "execute_result"
        }
      ],
      "source": [
        "email_data.isnull().sum()"
      ]
    },
    {
      "cell_type": "code",
      "execution_count": 202,
      "id": "45180f82",
      "metadata": {
        "id": "45180f82"
      },
      "outputs": [],
      "source": [
        "email_data = email_data.fillna({'email': np.NaN})"
      ]
    },
    {
      "cell_type": "code",
      "execution_count": 203,
      "id": "983a4077",
      "metadata": {},
      "outputs": [],
      "source": [
        "email_data = email_data.dropna(how='any', axis=0)"
      ]
    },
    {
      "cell_type": "code",
      "execution_count": 204,
      "id": "4e9fc4b8",
      "metadata": {},
      "outputs": [
        {
          "name": "stdout",
          "output_type": "stream",
          "text": [
            "<class 'pandas.core.frame.DataFrame'>\n",
            "Int64Index: 2999 entries, 0 to 2999\n",
            "Data columns (total 2 columns):\n",
            " #   Column  Non-Null Count  Dtype \n",
            "---  ------  --------------  ----- \n",
            " 0   email   2999 non-null   object\n",
            " 1   label   2999 non-null   int64 \n",
            "dtypes: int64(1), object(1)\n",
            "memory usage: 70.3+ KB\n"
          ]
        }
      ],
      "source": [
        "email_data.info()"
      ]
    },
    {
      "cell_type": "markdown",
      "id": "2ca2fe88",
      "metadata": {
        "id": "2ca2fe88"
      },
      "source": [
        "Переводим данные в векторный вид:"
      ]
    },
    {
      "cell_type": "code",
      "execution_count": 205,
      "id": "29e9a37b",
      "metadata": {
        "id": "29e9a37b"
      },
      "outputs": [],
      "source": [
        "vectorizer = CountVectorizer()\n",
        "X = vectorizer.fit_transform(email_data[\"email\"])"
      ]
    },
    {
      "cell_type": "markdown",
      "id": "88c8b726",
      "metadata": {
        "id": "88c8b726"
      },
      "source": [
        "Определите, сколько теперь признаков в нашем наборе данных:"
      ]
    },
    {
      "cell_type": "code",
      "execution_count": 206,
      "id": "f19c2a02",
      "metadata": {
        "id": "f19c2a02"
      },
      "outputs": [
        {
          "data": {
            "text/plain": [
              "34116"
            ]
          },
          "execution_count": 206,
          "metadata": {},
          "output_type": "execute_result"
        }
      ],
      "source": [
        "X.shape[1]"
      ]
    },
    {
      "cell_type": "markdown",
      "id": "1803f282",
      "metadata": {
        "id": "1803f282"
      },
      "source": [
        "## Задание 3 (2 балла)"
      ]
    },
    {
      "cell_type": "markdown",
      "id": "39f400b7",
      "metadata": {
        "id": "39f400b7"
      },
      "source": [
        "Определите целевую переменную и признаки:"
      ]
    },
    {
      "cell_type": "code",
      "execution_count": 207,
      "id": "31f1acb6",
      "metadata": {
        "id": "31f1acb6"
      },
      "outputs": [
        {
          "data": {
            "text/plain": [
              "(2999,)"
            ]
          },
          "execution_count": 207,
          "metadata": {},
          "output_type": "execute_result"
        }
      ],
      "source": [
        "y = email_data['label']\n",
        "y.shape"
      ]
    },
    {
      "cell_type": "markdown",
      "id": "b20f273e",
      "metadata": {
        "id": "b20f273e"
      },
      "source": [
        "Разделите выборку на обучающую и тестовую, размер тестовой выборки возьмите как 0.25, параметр random_state определите со значением 42:"
      ]
    },
    {
      "cell_type": "code",
      "execution_count": 208,
      "id": "96538fb6",
      "metadata": {
        "id": "96538fb6"
      },
      "outputs": [],
      "source": [
        "from sklearn.model_selection import train_test_split\n",
        "\n",
        "X_train, X_test, y_train, y_test = train_test_split(X, y, \n",
        "                                                    test_size = 0.25, \n",
        "                                                    random_state=42)"
      ]
    },
    {
      "cell_type": "code",
      "execution_count": 209,
      "id": "0d6b0245",
      "metadata": {},
      "outputs": [
        {
          "name": "stdout",
          "output_type": "stream",
          "text": [
            "(2249, 34116) (750, 34116)\n",
            "(2249,) (750,)\n"
          ]
        }
      ],
      "source": [
        "print(X_train.shape, X_test.shape)\n",
        "print(y_train.shape, y_test.shape)"
      ]
    },
    {
      "cell_type": "markdown",
      "id": "139dac3d",
      "metadata": {
        "id": "139dac3d"
      },
      "source": [
        "Рассчитайте среднее значение целевой переменной по тестовой выборке:"
      ]
    },
    {
      "cell_type": "code",
      "execution_count": 210,
      "id": "e9baf72d",
      "metadata": {
        "id": "e9baf72d"
      },
      "outputs": [
        {
          "data": {
            "text/plain": [
              "0.164"
            ]
          },
          "execution_count": 210,
          "metadata": {},
          "output_type": "execute_result"
        }
      ],
      "source": [
        "y_test.mean()"
      ]
    },
    {
      "cell_type": "markdown",
      "id": "710e0e94",
      "metadata": {
        "id": "710e0e94"
      },
      "source": [
        "## Задание 4 (3 балла)"
      ]
    },
    {
      "cell_type": "markdown",
      "id": "26cf6885",
      "metadata": {
        "id": "26cf6885"
      },
      "source": [
        "Определите и обучите подходящий алгоритм с параметром alpha = 0.01"
      ]
    },
    {
      "cell_type": "code",
      "execution_count": 211,
      "id": "4865dd78",
      "metadata": {
        "id": "4865dd78"
      },
      "outputs": [],
      "source": [
        "from sklearn.naive_bayes import ComplementNB\n",
        "\n",
        "clf = ComplementNB(alpha=0.01)\n",
        "clf.fit(X_train, y_train)\n",
        "y_train_predict = clf.predict(X_train)\n",
        "y_test_predict = clf.predict(X_test)"
      ]
    },
    {
      "cell_type": "markdown",
      "id": "d803fbe3",
      "metadata": {
        "id": "d803fbe3"
      },
      "source": [
        "Оцените результат с точки зрения всех известных вам метрик (не менее трёх):"
      ]
    },
    {
      "cell_type": "code",
      "execution_count": 212,
      "id": "b0bbc4d2",
      "metadata": {
        "id": "b0bbc4d2"
      },
      "outputs": [
        {
          "name": "stdout",
          "output_type": "stream",
          "text": [
            "Train accuracy: 0.998\n",
            "Train precission: 1.000\n",
            "Train recall: 0.987\n",
            "Train F1-score: 0.993\n",
            "\n",
            "\n",
            "Test accuracy: 0.995\n",
            "Test precission: 0.984\n",
            "Test recall: 0.984\n",
            "Train F1-score: 0.984\n"
          ]
        }
      ],
      "source": [
        "from sklearn import metrics\n",
        "\n",
        "def print_metrics(y_train, y_train_predict, y_test, y_test_predict):\n",
        "    print('Train accuracy: {:.3f}'.format(metrics.accuracy_score(y_train, y_train_predict)))\n",
        "    print('Train precission: {:.3f}'.format(metrics.precision_score(y_train, y_train_predict)))\n",
        "    print('Train recall: {:.3f}'.format(metrics.recall_score(y_train, y_train_predict)))\n",
        "    print('Train F1-score: {:.3f}'.format(metrics.f1_score(y_train, y_train_predict)))\n",
        "    print('\\n')\n",
        "    print('Test accuracy: {:.3f}'.format(metrics.accuracy_score(y_test, y_test_predict)))\n",
        "    print('Test precission: {:.3f}'.format(metrics.precision_score(y_test, y_test_predict)))\n",
        "    print('Test recall: {:.3f}'.format(metrics.recall_score(y_test, y_test_predict)))\n",
        "    print('Train F1-score: {:.3f}'.format(metrics.f1_score(y_test, y_test_predict)))\n",
        "\n",
        "print_metrics(y_train, y_train_predict, y_test, y_test_predict)"
      ]
    },
    {
      "cell_type": "code",
      "execution_count": 213,
      "id": "36e47c54",
      "metadata": {},
      "outputs": [
        {
          "name": "stdout",
          "output_type": "stream",
          "text": [
            "              precision    recall  f1-score   support\n",
            "\n",
            "           0       1.00      1.00      1.00       627\n",
            "           1       0.98      0.98      0.98       123\n",
            "\n",
            "    accuracy                           0.99       750\n",
            "   macro avg       0.99      0.99      0.99       750\n",
            "weighted avg       0.99      0.99      0.99       750\n",
            "\n"
          ]
        }
      ],
      "source": [
        "print(metrics.classification_report(y_test, y_test_predict))"
      ]
    },
    {
      "cell_type": "markdown",
      "id": "c85976d1",
      "metadata": {
        "id": "c85976d1"
      },
      "source": [
        "Нарисуйте ROC-кривую:"
      ]
    },
    {
      "cell_type": "code",
      "execution_count": 214,
      "id": "b4195126",
      "metadata": {
        "id": "b4195126"
      },
      "outputs": [
        {
          "name": "stdout",
          "output_type": "stream",
          "text": [
            "ROC AUC=0.987\n"
          ]
        },
        {
          "data": {
            "image/png": "[encoded data removed]",
            "text/plain": [
              "<Figure size 432x288 with 1 Axes>"
            ]
          },
          "metadata": {
            "needs_background": "light"
          },
          "output_type": "display_data"
        }
      ],
      "source": [
        "from sklearn.metrics import roc_curve, auc\n",
        "from sklearn.metrics import roc_auc_score\n",
        "\n",
        "y_test_probs = clf.predict_proba(X_test)\n",
        "y_probs = y_test_probs[:, 1]\n",
        "# рассчитываем ROC AUC\n",
        "test_auc = roc_auc_score(y_test, y_probs)\n",
        "print('ROC AUC=%.3f' % (test_auc))\n",
        "# рассчитываем roc-кривую\n",
        "fpr, tpr, treshold = roc_curve(y_test, y_probs)\n",
        "roc_auc = auc(fpr, tpr)\n",
        "# строим график\n",
        "plt.plot(fpr, tpr, color='darkorange', label='ROC кривая (area = %0.2f)' % roc_auc)\n",
        "plt.plot([0, 1], [0, 1], color='navy', linestyle='--')\n",
        "plt.xlim([0.0, 1.0])\n",
        "plt.ylim([0.0, 1.05])\n",
        "plt.xlabel('False Positive Rate')\n",
        "plt.ylabel('True Positive Rate')\n",
        "plt.title('ROC-кривая')\n",
        "plt.legend(loc=\"lower right\")\n",
        "plt.show()"
      ]
    },
    {
      "cell_type": "markdown",
      "id": "cf0bb49b",
      "metadata": {
        "id": "cf0bb49b"
      },
      "source": [
        "## Задание 5 (3 балла)"
      ]
    },
    {
      "cell_type": "markdown",
      "id": "30b7a0ae",
      "metadata": {
        "id": "30b7a0ae"
      },
      "source": [
        "Переберите несколько значений alpha с помощью кросс-валидации. Оцените, зависит ли от этого параметра качество классификации."
      ]
    },
    {
      "cell_type": "code",
      "execution_count": 215,
      "id": "3513d907",
      "metadata": {
        "id": "3513d907"
      },
      "outputs": [],
      "source": [
        "#Создаём список из 20 возможных значений от 0.001 до 0.1\n",
        "alpha_list = np.linspace(0.001, 0.1, 20)\n",
        "#Создаём пустые списки, в которые будем добавлять результаты \n",
        "train_scores = []\n",
        "test_scores = []\n",
        "for alpha in alpha_list:\n",
        "    #Создаём объект класса ComplementNB\n",
        "    clf = ComplementNB(alpha=alpha)\n",
        "    #Обучаем модель\n",
        "    clf.fit(X_train, y_train)\n",
        "    #Делаем предсказание для тренировочной выборки\n",
        "    y_train_predict = clf.predict(X_train)\n",
        "    #Делаем предсказание для тестовой выборки\n",
        "    y_test_predict = clf.predict(X_test)\n",
        "    #Рассчитываем accuracy для двух выборок и добавляем их в списки\n",
        "    train_scores.append(metrics.accuracy_score(y_train, y_train_predict))\n",
        "    test_scores.append(metrics.accuracy_score(y_test, y_test_predict))"
      ]
    },
    {
      "cell_type": "code",
      "execution_count": 216,
      "id": "aa2aeb39",
      "metadata": {},
      "outputs": [
        {
          "data": {
            "image/png": "[encoded data removed]",
            "text/plain": [
              "<Figure size 1080x360 with 1 Axes>"
            ]
          },
          "metadata": {
            "needs_background": "light"
          },
          "output_type": "display_data"
        }
      ],
      "source": [
        "#Визуализируем изменение accuracy в зависимости от alpha\n",
        "fig, ax = plt.subplots(figsize=(15, 5)) #фигура + координатная плоскость\n",
        "ax.plot(alpha_list, train_scores, label='Train') #линейный график для тренировочной выборки\n",
        "ax.plot(alpha_list, test_scores, label='Test') #линейный график для тестовой выборки\n",
        "ax.set_xlabel('Alpha') #название оси абсцисс\n",
        "ax.set_ylabel('Accuracy') #название оси ординат\n",
        "ax.set_xticks(alpha_list) #метки по оси абсцисс\n",
        "ax.xaxis.set_tick_params(rotation=45) #поворот меток на оси абсцисс\n",
        "ax.legend(); #отображение легенды"
      ]
    },
    {
      "cell_type": "markdown",
      "id": "591566a1",
      "metadata": {},
      "source": [
        "# Реализация алгоритма \"вручную\""
      ]
    },
    {
      "cell_type": "code",
      "execution_count": null,
      "id": "9a44868d",
      "metadata": {},
      "outputs": [],
      "source": [
        "import warnings\n",
        "warnings.filterwarnings('ignore')"
      ]
    },
    {
      "cell_type": "code",
      "execution_count": null,
      "id": "e1267561",
      "metadata": {},
      "outputs": [],
      "source": [
        "email_data = pd.read_csv('data/spam_or_not_spam.csv')\n",
        "email_data = email_data.fillna({'email': np.NaN})\n",
        "email_data = email_data.dropna(how='any', axis=0)"
      ]
    },
    {
      "cell_type": "markdown",
      "id": "0e1e2388",
      "metadata": {},
      "source": [
        "Предобработка данных"
      ]
    },
    {
      "cell_type": "markdown",
      "id": "539a6cf0",
      "metadata": {},
      "source": [
        "- replace('\\W+', ' ') - замена на пробелы все небуквенные символы\n",
        "- replace('\\s+', ' ') - замена пробельных символов табуляции и переноса строки на пробелы\n",
        "- strip() - очистить все лишние пробелы по краям сообщений"
      ]
    },
    {
      "cell_type": "code",
      "execution_count": null,
      "id": "714b67b8",
      "metadata": {},
      "outputs": [],
      "source": [
        "email_data['email'] = email_data['email'].str.replace('\\W+', ' ').str.replace('\\s+', ' ').str.strip()"
      ]
    },
    {
      "cell_type": "code",
      "execution_count": null,
      "id": "7555dfcb",
      "metadata": {},
      "outputs": [],
      "source": [
        "# перевод в нижний регистр\n",
        "email_data['email'] = email_data['email'].str.lower()\n",
        "\n",
        "# перевод строк в списки слов\n",
        "email_data['email'] = email_data['email'].str.split()"
      ]
    },
    {
      "cell_type": "code",
      "execution_count": null,
      "id": "575305f4",
      "metadata": {},
      "outputs": [],
      "source": [
        "email_data['email'].head()"
      ]
    },
    {
      "cell_type": "markdown",
      "id": "33eb0596",
      "metadata": {},
      "source": [
        "Заменим значения на object"
      ]
    },
    {
      "cell_type": "code",
      "execution_count": null,
      "id": "971046d7",
      "metadata": {},
      "outputs": [],
      "source": [
        "email_data['label'] = email_data['label'].apply(lambda x: 'spam' if x==1 else 'not_spam')"
      ]
    },
    {
      "cell_type": "markdown",
      "id": "5fa12dcd",
      "metadata": {},
      "source": [
        "Процент спам-сообщений и нормальных сообщений"
      ]
    },
    {
      "cell_type": "code",
      "execution_count": null,
      "id": "37a1c53c",
      "metadata": {},
      "outputs": [],
      "source": [
        "email_data['label'].value_counts() / email_data.shape[0] * 100"
      ]
    },
    {
      "cell_type": "markdown",
      "id": "1d64bc8c",
      "metadata": {},
      "source": [
        "Разделение на обучающую и тестовую выборки"
      ]
    },
    {
      "cell_type": "code",
      "execution_count": null,
      "id": "7f1ddc9a",
      "metadata": {},
      "outputs": [],
      "source": [
        "train_data = email_data.sample(frac=0.8,random_state=42).reset_index(drop=True)\n",
        "test_data = email_data.drop(train_data.index).reset_index(drop=True)\n",
        "train_data = train_data.reset_index(drop=True)"
      ]
    },
    {
      "cell_type": "code",
      "execution_count": null,
      "id": "38d638e6",
      "metadata": {},
      "outputs": [],
      "source": [
        "train_data['label'].value_counts() / train_data.shape[0] * 100"
      ]
    },
    {
      "cell_type": "code",
      "execution_count": null,
      "id": "52bd9f61",
      "metadata": {},
      "outputs": [],
      "source": [
        "train_data.shape"
      ]
    },
    {
      "cell_type": "code",
      "execution_count": null,
      "id": "90142882",
      "metadata": {},
      "outputs": [],
      "source": [
        "test_data['label'].value_counts() / test_data.shape[0] * 100"
      ]
    },
    {
      "cell_type": "code",
      "execution_count": null,
      "id": "1fadfcc3",
      "metadata": {},
      "outputs": [],
      "source": [
        "test_data.shape"
      ]
    },
    {
      "cell_type": "code",
      "execution_count": null,
      "id": "a121aa9d",
      "metadata": {},
      "outputs": [],
      "source": [
        "test_data.head()"
      ]
    },
    {
      "cell_type": "markdown",
      "id": "007a4064",
      "metadata": {},
      "source": [
        "Список слов"
      ]
    },
    {
      "cell_type": "code",
      "execution_count": null,
      "id": "26dab1eb",
      "metadata": {},
      "outputs": [],
      "source": [
        "vocabulary = list(set(train_data['email'].sum()))\n",
        "vocabulary[500:515]"
      ]
    },
    {
      "cell_type": "code",
      "execution_count": null,
      "id": "f95a6590",
      "metadata": {},
      "outputs": [],
      "source": [
        "len(vocabulary)"
      ]
    },
    {
      "cell_type": "markdown",
      "id": "c7c936cc",
      "metadata": {},
      "source": [
        "Рассчитаем частоты слов"
      ]
    },
    {
      "cell_type": "code",
      "execution_count": null,
      "id": "ea818301",
      "metadata": {},
      "outputs": [],
      "source": [
        "word_counts_per_email = pd.DataFrame([\n",
        "    [row[0].count(word) for word in vocabulary]\n",
        "    for _, row in train_data.iterrows()], columns=vocabulary)"
      ]
    },
    {
      "cell_type": "code",
      "execution_count": null,
      "id": "c7666ee8",
      "metadata": {},
      "outputs": [],
      "source": [
        "word_counts_per_email.rename(columns={'label': 'label_'}, inplace=True)"
      ]
    },
    {
      "cell_type": "code",
      "execution_count": null,
      "id": "3981c7da",
      "metadata": {},
      "outputs": [],
      "source": [
        "train_data = pd.concat([train_data.reset_index(), word_counts_per_email], axis=1).iloc[:,1:]\n",
        "train_data.head()"
      ]
    },
    {
      "cell_type": "markdown",
      "id": "7a4beed9",
      "metadata": {},
      "source": [
        "Значения для формулы Байеса"
      ]
    },
    {
      "cell_type": "code",
      "execution_count": null,
      "id": "0f62fde6",
      "metadata": {},
      "outputs": [],
      "source": [
        "alpha = 1\n",
        "\n",
        "# Количество признаков\n",
        "Nvoc = len(train_data.columns) - 3\n",
        "\n",
        "# Вероятность спама: количество всех писем со спамом / количество всех сообщений\n",
        "Pspam = train_data['label'].value_counts()['spam'] / train_data.shape[0]\n",
        "\n",
        "# Вероятность не спама: количество всех писем не спама / количество всех сообщений\n",
        "Pham = train_data['label'].value_counts()['not_spam'] / train_data.shape[0]\n",
        "\n",
        "# Количество уникальных слов в спаме\n",
        "Nspam = train_data.loc[train_data['label'] == 'spam', 'email'].apply(len).sum()\n",
        "\n",
        "# Количество уникальных слов в не спаме\n",
        "Nham = train_data.loc[train_data['label'] == 'not_spam', 'email'].apply(len).sum()\n",
        "\n",
        "# Вероятность того, что слово встречается если это спам\n",
        "def p_w_spam(word):\n",
        "    if word in train_data.columns:\n",
        "        return (train_data.loc[train_data['label'] == 'spam', word].sum() + alpha) / (Nspam + alpha*Nvoc)\n",
        "    else:\n",
        "        return 1\n",
        "    \n",
        "# Вероятность того, что слово встречается если это не спам\n",
        "def p_w_not_spam(word):\n",
        "    if word in train_data.columns:\n",
        "        return (train_data.loc[train_data['label'] == 'not_spam', word].sum() + alpha) / (Nham + alpha*Nvoc)\n",
        "    else:\n",
        "        return 1"
      ]
    },
    {
      "cell_type": "markdown",
      "id": "72e52c4d",
      "metadata": {},
      "source": [
        "Алгоритм классификации"
      ]
    },
    {
      "cell_type": "code",
      "execution_count": null,
      "id": "124127d2",
      "metadata": {},
      "outputs": [],
      "source": [
        "def classify(message):\n",
        "    p_spam_given_message = Pspam\n",
        "    p_not_spam_given_message = Pham\n",
        "    for word in message:\n",
        "        p_spam_given_message *= p_w_spam(word)\n",
        "        p_not_spam_given_message *= p_w_not_spam(word)\n",
        "    if p_not_spam_given_message > p_spam_given_message:\n",
        "        return 'not_spam'\n",
        "    elif p_not_spam_given_message < p_spam_given_message:\n",
        "        return 'spam'\n",
        "    else:\n",
        "        return 'классификация некорректна'"
      ]
    },
    {
      "cell_type": "markdown",
      "id": "93bee9b7",
      "metadata": {},
      "source": [
        "Используем тестовые данные"
      ]
    },
    {
      "cell_type": "code",
      "execution_count": null,
      "id": "743956ed",
      "metadata": {},
      "outputs": [],
      "source": [
        "test_data.info()"
      ]
    },
    {
      "cell_type": "code",
      "execution_count": null,
      "id": "f37144d7",
      "metadata": {},
      "outputs": [],
      "source": [
        "test_data['predicted'] = test_data['email'].apply(classify)\n",
        "test_data.head()"
      ]
    },
    {
      "cell_type": "code",
      "execution_count": null,
      "id": "82af325c",
      "metadata": {},
      "outputs": [],
      "source": [
        "correct = (test_data['predicted'] == test_data['label']).sum() / test_data.shape[0] * 100\n",
        "correct"
      ]
    },
    {
      "cell_type": "code",
      "execution_count": null,
      "id": "608eb122",
      "metadata": {},
      "outputs": [],
      "source": [
        "test_data.loc[test_data['predicted'] != test_data['label']]"
      ]
    }
  ],
  "metadata": {
    "colab": {
      "name": "SGA_unit6_NBC.ipynb",
      "provenance": []
    },
    "kernelspec": {
      "display_name": "Python 3.9.7 64-bit",
      "language": "python",
      "name": "python3"
    },
    "language_info": {
      "codemirror_mode": {
        "name": "ipython",
        "version": 3
      },
      "file_extension": ".py",
      "mimetype": "text/x-python",
      "name": "python",
      "nbconvert_exporter": "python",
      "pygments_lexer": "ipython3",
      "version": "3.9.7"
    },
    "vscode": {
      "interpreter": {
        "hash": "68ff218c3fce8aa55493ff7fb816b7bc158a2564f4b9f75d1461580e12c75fb0"
      }
    }
  },
  "nbformat": 4,
  "nbformat_minor": 5
}
